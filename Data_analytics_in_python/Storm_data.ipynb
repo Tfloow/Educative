{
 "cells": [
  {
   "cell_type": "code",
   "execution_count": 1,
   "id": "aea5d589-efb2-4cdf-89f9-aa1cff8fa4c8",
   "metadata": {},
   "outputs": [],
   "source": [
    "import pandas as pd\n",
    "import matplotlib as plt\n",
    "import matplotlib.pyplot as plt\n",
    "import numpy as np"
   ]
  },
  {
   "cell_type": "code",
   "execution_count": 4,
   "id": "99c45b4b-fd0b-4dc1-8822-b81361fa406e",
   "metadata": {},
   "outputs": [],
   "source": [
    "df = pd.read_csv(\"all-us-hurricanes-noaa.csv\")\n",
    "df = df[(df.Year.str.contains(\"s\")) == False]\n",
    "df = df[(df.Month.str.contains(\"None\")) == False]\n",
    "df = df.replace('Sp-Oc','Sep')\n",
    "df = df.replace('Jl-Au','Jul')\n",
    "df.Month = pd.to_datetime(df.Month, format='%b').dt\\\n",
    ".month\n",
    "df.columns =['Year', 'Month', 'States', 'Category',\n",
    "'Pressure', 'Max Wind', 'Name']\n",
    "df = df.astype({'Year': 'int'})\n",
    "df = df.replace('-----',np.NaN)\n",
    "df = df.astype({'Max Wind': 'float'})"
   ]
  },
  {
   "cell_type": "code",
   "execution_count": 6,
   "id": "cca53fc7-603c-43bc-be1c-8d11d2e0ee0d",
   "metadata": {},
   "outputs": [
    {
     "name": "stdout",
     "output_type": "stream",
     "text": [
      "     Year  Month                             States  Category  Pressure  \\\n",
      "1    1851      6                             TX, C1       1.0     974.0   \n",
      "2    1851      8                   FL, NW3; I-GA, 1       3.0     955.0   \n",
      "3    1852      8  AL, 3; MS, 3; LA, 2; FL, SW2, NW1       3.0     961.0   \n",
      "4    1852      9                            FL, SW1       1.0     982.0   \n",
      "5    1852     10                   FL, NW2; I-GA, 1       2.0     965.0   \n",
      "..    ...    ...                                ...       ...       ...   \n",
      "339  2017      9                       FL,SW 4,SE 1       4.0     931.0   \n",
      "340  2017     10                         LA 1, MS 1       1.0     983.0   \n",
      "341  2018      9                               NC 1       1.0     956.0   \n",
      "342  2018     10                   FL, NW 5; I-GA 2       5.0     919.0   \n",
      "343  2019      7                               LA 2       2.0     993.0   \n",
      "\n",
      "     Max Wind                    Name  \n",
      "1        80.0                     NaN  \n",
      "2       100.0  \"Great Middle Florida\"  \n",
      "3       100.0          \"Great Mobile\"  \n",
      "4        70.0                     NaN  \n",
      "5        90.0        \"Middle Florida\"  \n",
      "..        ...                     ...  \n",
      "339     115.0                    Irma  \n",
      "340      65.0                    Nate  \n",
      "341      80.0                Florence  \n",
      "342     140.0                 Michael  \n",
      "343      90.0                   Barry  \n",
      "\n",
      "[294 rows x 7 columns]\n"
     ]
    }
   ],
   "source": [
    "print(df)"
   ]
  },
  {
   "cell_type": "markdown",
   "id": "bdc5996a-8dc6-436e-b182-1383ba78f9bd",
   "metadata": {},
   "source": [
    "Now we are going to suggest breaking out the 3 most important metrics: \n",
    "1. Hurricane category\n",
    "2. Barometric pressure\n",
    "3. Maximum wind speeds"
   ]
  },
  {
   "cell_type": "code",
   "execution_count": 7,
   "id": "776a0406-5aa4-4434-814b-615fa04169b4",
   "metadata": {},
   "outputs": [
    {
     "name": "stdout",
     "output_type": "stream",
     "text": [
      "1.0    121\n",
      "2.0     82\n",
      "3.0     62\n",
      "4.0     25\n",
      "5.0      4\n",
      "Name: Category, dtype: int64\n"
     ]
    }
   ],
   "source": [
    "print (df['Category'].value_counts())"
   ]
  },
  {
   "cell_type": "code",
   "execution_count": 8,
   "id": "d817442d-443b-48c7-b7df-72bd89a855c3",
   "metadata": {},
   "outputs": [
    {
     "data": {
      "text/plain": [
       "array([[<AxesSubplot:title={'center':'Year'}>]], dtype=object)"
      ]
     },
     "execution_count": 8,
     "metadata": {},
     "output_type": "execute_result"
    },
    {
     "data": {
      "image/png": "[encoded data removed]",
      "text/plain": [
       "<Figure size 432x288 with 1 Axes>"
      ]
     },
     "metadata": {
      "needs_background": "light"
     },
     "output_type": "display_data"
    }
   ],
   "source": [
    "df.hist(column='Year', bins=25)"
   ]
  },
  {
   "cell_type": "code",
   "execution_count": null,
   "id": "b55f67c7-3df1-4a3a-959a-8f2f70f5d25d",
   "metadata": {},
   "outputs": [],
   "source": []
  }
 ],
 "metadata": {
  "kernelspec": {
   "display_name": "Python 3 (ipykernel)",
   "language": "python",
   "name": "python3"
  },
  "language_info": {
   "codemirror_mode": {
    "name": "ipython",
    "version": 3
   },
   "file_extension": ".py",
   "mimetype": "text/x-python",
   "name": "python",
   "nbconvert_exporter": "python",
   "pygments_lexer": "ipython3",
   "version": "3.9.13"
  }
 },
 "nbformat": 4,
 "nbformat_minor": 5
}
